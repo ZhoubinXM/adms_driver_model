{
 "cells": [
  {
   "cell_type": "code",
   "execution_count": 2,
   "metadata": {},
   "outputs": [],
   "source": [
    "import pandas as pd\n",
    "import numpy as np\n",
    "import sys\n",
    "sys.path.append('.')\n",
    "sys.path.append('..')\n",
    "import seaborn as sns\n",
    "import matplotlib.pyplot as plt"
   ]
  },
  {
   "cell_type": "code",
   "execution_count": 3,
   "metadata": {},
   "outputs": [],
   "source": [
    "# 加载原始数据\n",
    "original_dataset = pd.read_pickle('../data/labeled_dataset.pkl')\n",
    "inloop_labeled = pd.read_csv('../data/inloop_labeled.csv') # spd > 0 and lt < 8"
   ]
  },
  {
   "cell_type": "code",
   "execution_count": 31,
   "metadata": {},
   "outputs": [],
   "source": [
    "# 数据拼接\n",
    "dataset = original_dataset[original_dataset['uuid'].isin(inloop_labeled['uuid'])]\n",
    "dataset_all = pd.merge(dataset, inloop_labeled[['uuid', 'lt']], on='uuid', how='left')\n",
    "dataset_all = dataset_all.dropna()\n",
    "dataset_all = dataset_all[dataset_all['tot'] > 0]\n",
    "dataset_all.tot = dataset_all['tot']*10**-9\n",
    "dataset_all.tob = dataset_all['tob']*10**-9 "
   ]
  },
  {
   "cell_type": "code",
   "execution_count": 63,
   "metadata": {},
   "outputs": [
    {
     "data": {
      "text/plain": [
       "<AxesSubplot:xlabel='lt', ylabel='Count'>"
      ]
     },
     "execution_count": 63,
     "metadata": {},
     "output_type": "execute_result"
    },
    {
     "data": {
      "image/png": "[encoded data removed]",
      "text/plain": [
       "<Figure size 640x480 with 1 Axes>"
      ]
     },
     "metadata": {},
     "output_type": "display_data"
    }
   ],
   "source": [
    "# 特征工程相关操作\n",
    "# 离散值\n",
    "sparse_fea = dataset_all.loc[:, 'c_DANADSts':'c_HOSts']\n",
    "unique_counts = sparse_fea.nunique()\n",
    "# 连续值 归一化\n",
    "dense_fea = dataset_all.loc[:, 'l_age':'l_YawRateSAERps']\n",
    "dense_fea_min = dense_fea.min()\n",
    "dense_fea_max = dense_fea.max()\n",
    "dataset_all.loc[:, 'l_age':'l_YawRateSAERps'] = (dense_fea - dense_fea_min) / (dense_fea_max - dense_fea_min)\n",
    "# 数据集划分\n",
    "from sklearn.model_selection import train_test_split\n",
    "train_df, temp_df = train_test_split(dataset_all, test_size=0.2, random_state=42)\n",
    "mini_df = train_df.iloc[:100, :]\n",
    "mini_df.to_pickle('../data/mini_lt.pkl')\n",
    "train_df.to_pickle(\"../data/train_val_lt.pkl\")\n",
    "temp_df.to_pickle(\"../data/test_lt.pkl\")\n",
    "sns.histplot(dataset_all['lt'])"
   ]
  },
  {
   "cell_type": "code",
   "execution_count": null,
   "metadata": {},
   "outputs": [],
   "source": [
    "plt.figure(figsize=(30, 30))\n",
    "sns.heatmap(dataset_all.iloc[:, 4:].corr().round(2), annot=True, cmap='coolwarm')"
   ]
  },
  {
   "cell_type": "code",
   "execution_count": null,
   "metadata": {},
   "outputs": [],
   "source": []
  }
 ],
 "metadata": {
  "kernelspec": {
   "display_name": "adms_model",
   "language": "python",
   "name": "python3"
  },
  "language_info": {
   "codemirror_mode": {
    "name": "ipython",
    "version": 3
   },
   "file_extension": ".py",
   "mimetype": "text/x-python",
   "name": "python",
   "nbconvert_exporter": "python",
   "pygments_lexer": "ipython3",
   "version": "3.9.17"
  },
  "orig_nbformat": 4,
  "vscode": {
   "interpreter": {
    "hash": "367c5dde15085db206382cd425d04dfd19ec5ac9ee7cb35ef24b6d688184a595"
   }
  }
 },
 "nbformat": 4,
 "nbformat_minor": 2
}
